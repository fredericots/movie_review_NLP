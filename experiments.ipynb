{
 "cells": [
  {
   "cell_type": "markdown",
   "metadata": {},
   "source": [
    "# DATA COLLECTION"
   ]
  },
  {
   "cell_type": "code",
   "execution_count": 1,
   "metadata": {},
   "outputs": [],
   "source": [
    "from data_collection import read_train_data"
   ]
  },
  {
   "cell_type": "code",
   "execution_count": 2,
   "metadata": {},
   "outputs": [
    {
     "name": "stdout",
     "output_type": "stream",
     "text": [
      "Positive data collection progress\n"
     ]
    },
    {
     "name": "stderr",
     "output_type": "stream",
     "text": [
      "100%|██████████████████████████████████████████████████████████████████████████| 12500/12500 [00:11<00:00, 1120.91it/s]\n"
     ]
    },
    {
     "name": "stdout",
     "output_type": "stream",
     "text": [
      "Negative data collection progress\n"
     ]
    },
    {
     "name": "stderr",
     "output_type": "stream",
     "text": [
      "100%|██████████████████████████████████████████████████████████████████████████| 12500/12500 [00:11<00:00, 1115.71it/s]\n"
     ]
    }
   ],
   "source": [
    "train = read_train_data()"
   ]
  },
  {
   "cell_type": "code",
   "execution_count": null,
   "metadata": {},
   "outputs": [],
   "source": []
  },
  {
   "cell_type": "code",
   "execution_count": null,
   "metadata": {},
   "outputs": [],
   "source": []
  },
  {
   "cell_type": "markdown",
   "metadata": {},
   "source": [
    "# DATA PREPROCESSING"
   ]
  },
  {
   "cell_type": "code",
   "execution_count": 3,
   "metadata": {},
   "outputs": [],
   "source": [
    "from preprocess import preprocess"
   ]
  },
  {
   "cell_type": "code",
   "execution_count": 4,
   "metadata": {},
   "outputs": [],
   "source": [
    "train['preprocess_review'] = train.loc[:,'movie_review'].apply(preprocess)"
   ]
  },
  {
   "cell_type": "code",
   "execution_count": null,
   "metadata": {},
   "outputs": [],
   "source": []
  },
  {
   "cell_type": "markdown",
   "metadata": {},
   "source": [
    "# TRAIN/VAL/TEST SPLIT"
   ]
  },
  {
   "cell_type": "code",
   "execution_count": 5,
   "metadata": {},
   "outputs": [],
   "source": [
    "from sklearn.model_selection import train_test_split\n",
    "\n",
    "X_train, X_test, y_train, y_test = train_test_split(train.loc[:,'preprocess_review'], \n",
    "                                                    train.loc[:,'label'], \n",
    "                                                    test_size=0.2,\n",
    "                                                    random_state=42)\n",
    "X_train, X_val, y_train, y_val = train_test_split(X_train, y_train, test_size=0.2, random_state=42)"
   ]
  },
  {
   "cell_type": "code",
   "execution_count": null,
   "metadata": {},
   "outputs": [],
   "source": []
  },
  {
   "cell_type": "code",
   "execution_count": null,
   "metadata": {},
   "outputs": [],
   "source": []
  },
  {
   "cell_type": "markdown",
   "metadata": {},
   "source": [
    "# MODEL TRAINING - BAYES"
   ]
  },
  {
   "cell_type": "code",
   "execution_count": 6,
   "metadata": {},
   "outputs": [],
   "source": [
    "import collections\n",
    "import nltk\n",
    "\n",
    "VOCAB_SIZE = 2000\n",
    "\n",
    "def text_tofeatures(text, word_features):\n",
    "    text = nltk.word_tokenize(text)\n",
    "    text_words = set(text)\n",
    "    features = {}\n",
    "    for word in word_features:\n",
    "        features['contains({})'.format(word)] = (word in text_words)\n",
    "    return features"
   ]
  },
  {
   "cell_type": "code",
   "execution_count": 7,
   "metadata": {},
   "outputs": [
    {
     "name": "stdout",
     "output_type": "stream",
     "text": [
      "N words:   1964719\n"
     ]
    }
   ],
   "source": [
    "words = []\n",
    "for text in X_train:\n",
    "    words += nltk.word_tokenize(text)\n",
    "print('N words:  ', len(words))\n",
    "all_words = nltk.FreqDist(w.lower() for w in words)\n",
    "word_features = list(all_words)[:VOCAB_SIZE]"
   ]
  },
  {
   "cell_type": "code",
   "execution_count": 8,
   "metadata": {},
   "outputs": [],
   "source": [
    "train_feat = [(text_tofeatures(movie_review, word_features), label) for (movie_review, label) in zip(X_train, y_train)]\n",
    "val_feat = [(text_tofeatures(movie_review, word_features), label) for (movie_review, label) in zip(X_val, y_val)]"
   ]
  },
  {
   "cell_type": "code",
   "execution_count": null,
   "metadata": {},
   "outputs": [],
   "source": []
  },
  {
   "cell_type": "code",
   "execution_count": 9,
   "metadata": {},
   "outputs": [],
   "source": [
    "classifier = nltk.NaiveBayesClassifier.train(train_feat)"
   ]
  },
  {
   "cell_type": "code",
   "execution_count": 10,
   "metadata": {},
   "outputs": [
    {
     "name": "stdout",
     "output_type": "stream",
     "text": [
      "0.84025\n"
     ]
    }
   ],
   "source": [
    "print(nltk.classify.accuracy(classifier, val_feat))"
   ]
  },
  {
   "cell_type": "code",
   "execution_count": 11,
   "metadata": {},
   "outputs": [
    {
     "name": "stdout",
     "output_type": "stream",
     "text": [
      "Most Informative Features\n",
      "         contains(waste) = True              neg : pos    =     13.8 : 1.0\n",
      "       contains(unfunny) = True              neg : pos    =     11.7 : 1.0\n",
      "         contains(worst) = True              neg : pos    =      9.8 : 1.0\n",
      "     contains(laughable) = True              neg : pos    =      9.6 : 1.0\n",
      "     contains(pointless) = True              neg : pos    =      9.3 : 1.0\n",
      "   contains(wonderfully) = True              pos : neg    =      8.8 : 1.0\n",
      "     contains(redeeming) = True              neg : pos    =      8.7 : 1.0\n",
      "        contains(poorly) = True              neg : pos    =      8.1 : 1.0\n",
      "         contains(awful) = True              neg : pos    =      8.0 : 1.0\n",
      "      contains(pathetic) = True              neg : pos    =      7.4 : 1.0\n",
      "          contains(lame) = True              neg : pos    =      7.1 : 1.0\n",
      "    contains(underrated) = True              pos : neg    =      7.0 : 1.0\n",
      "        contains(wasted) = True              neg : pos    =      6.2 : 1.0\n",
      "       contains(garbage) = True              neg : pos    =      6.0 : 1.0\n",
      "          contains(mess) = True              neg : pos    =      5.9 : 1.0\n",
      "    contains(delightful) = True              pos : neg    =      5.9 : 1.0\n",
      "      contains(horrible) = True              neg : pos    =      5.6 : 1.0\n",
      "      contains(victoria) = True              pos : neg    =      5.6 : 1.0\n",
      "   contains(beautifully) = True              pos : neg    =      5.6 : 1.0\n",
      "          contains(crap) = True              neg : pos    =      5.5 : 1.0\n"
     ]
    }
   ],
   "source": [
    "classifier.show_most_informative_features(20)"
   ]
  },
  {
   "cell_type": "code",
   "execution_count": null,
   "metadata": {},
   "outputs": [],
   "source": []
  },
  {
   "cell_type": "code",
   "execution_count": null,
   "metadata": {},
   "outputs": [],
   "source": []
  },
  {
   "cell_type": "code",
   "execution_count": null,
   "metadata": {},
   "outputs": [],
   "source": []
  },
  {
   "cell_type": "markdown",
   "metadata": {},
   "source": [
    "# MODEL TRAINING - CONV1D"
   ]
  },
  {
   "cell_type": "code",
   "execution_count": null,
   "metadata": {},
   "outputs": [],
   "source": [
    "import keras\n",
    "from keras import preprocessing\n",
    "import numpy as np\n",
    "\n",
    "VOCAB_SIZE = 2000\n",
    "SENTENCE_MAX_SIZE = 1000\n",
    "\n",
    "tokenizer = preprocessing.text.Tokenizer(\n",
    "    num_words=VOCAB_SIZE,\n",
    "    filters='!\"#$%&()*+,-./:;<=>?@[\\\\]^_`{|}~\\t\\n',\n",
    "    lower=True, \n",
    "    split=' ')\n",
    "\n",
    "def featurize(reviews_list, tokenizer):\n",
    "    reviews_feat = tokenizer.texts_to_sequences(reviews_list)\n",
    "    reviews_feat = preprocessing.sequence.pad_sequences(reviews_feat, maxlen=SENTENCE_MAX_SIZE, dtype='int32', \n",
    "                                                        padding='pre', truncating='post', value=0)\n",
    "    return reviews_feat\n",
    "\n",
    "def y_formatting(y_data):\n",
    "    y = []\n",
    "    for label in y_data:\n",
    "        y.append(1 if label == 'pos' else 0)\n",
    "    return np.array(y)\n",
    "        "
   ]
  },
  {
   "cell_type": "code",
   "execution_count": 7,
   "metadata": {},
   "outputs": [],
   "source": [
    "tokenizer.fit_on_texts(X_train)\n",
    "X_train_feat = featurize(X_train, tokenizer)\n",
    "X_val_feat = featurize(X_val, tokenizer)"
   ]
  },
  {
   "cell_type": "code",
   "execution_count": null,
   "metadata": {},
   "outputs": [],
   "source": []
  },
  {
   "cell_type": "code",
   "execution_count": 8,
   "metadata": {},
   "outputs": [],
   "source": [
    "y_train_feat = y_formatting(y_train)\n",
    "y_val_feat = y_formatting(y_val)"
   ]
  },
  {
   "cell_type": "code",
   "execution_count": null,
   "metadata": {},
   "outputs": [],
   "source": []
  },
  {
   "cell_type": "code",
   "execution_count": 9,
   "metadata": {},
   "outputs": [],
   "source": [
    "EMBEDDED_DIM = 50\n",
    "INPUT_LENGTH = X_train_feat.shape[1]"
   ]
  },
  {
   "cell_type": "code",
   "execution_count": 10,
   "metadata": {},
   "outputs": [
    {
     "name": "stdout",
     "output_type": "stream",
     "text": [
      "_________________________________________________________________\n",
      "Layer (type)                 Output Shape              Param #   \n",
      "=================================================================\n",
      "embedding_1 (Embedding)      (None, 1000, 50)          100000    \n",
      "_________________________________________________________________\n",
      "conv1d_1 (Conv1D)            (None, 991, 20)           10020     \n",
      "_________________________________________________________________\n",
      "max_pooling1d_1 (MaxPooling1 (None, 495, 20)           0         \n",
      "_________________________________________________________________\n",
      "flatten_1 (Flatten)          (None, 9900)              0         \n",
      "_________________________________________________________________\n",
      "dense_1 (Dense)              (None, 1)                 9901      \n",
      "=================================================================\n",
      "Total params: 119,921\n",
      "Trainable params: 119,921\n",
      "Non-trainable params: 0\n",
      "_________________________________________________________________\n",
      "None\n"
     ]
    },
    {
     "name": "stderr",
     "output_type": "stream",
     "text": [
      "D:\\ANACONDA\\envs\\keras-gpu\\lib\\site-packages\\ipykernel_launcher.py:2: UserWarning: The `dropout` argument is no longer support in `Embedding`. You can apply a `keras.layers.SpatialDropout1D` layer right after the `Embedding` layer to get the same behavior.\n",
      "  \n"
     ]
    }
   ],
   "source": [
    "model = keras.models.Sequential()\n",
    "model.add(keras.layers.Embedding(VOCAB_SIZE, EMBEDDED_DIM, input_length = INPUT_LENGTH, dropout = 0.2))\n",
    "model.add(keras.layers.Conv1D(filters=20, kernel_size=10, activation='relu'))\n",
    "model.add(keras.layers.MaxPooling1D(pool_size=2))\n",
    "model.add(keras.layers.Flatten())\n",
    "model.add(keras.layers.Dense(1, activation='sigmoid'))\n",
    "model.compile(loss='binary_crossentropy', optimizer='adam', metrics=['accuracy'])\n",
    "print(model.summary())"
   ]
  },
  {
   "cell_type": "code",
   "execution_count": null,
   "metadata": {},
   "outputs": [],
   "source": []
  },
  {
   "cell_type": "code",
   "execution_count": null,
   "metadata": {},
   "outputs": [],
   "source": []
  },
  {
   "cell_type": "code",
   "execution_count": 11,
   "metadata": {},
   "outputs": [],
   "source": [
    "BATCH_SIZE = 50\n",
    "TRAINING_EPOCHS = 3"
   ]
  },
  {
   "cell_type": "code",
   "execution_count": 12,
   "metadata": {},
   "outputs": [
    {
     "name": "stdout",
     "output_type": "stream",
     "text": [
      "Train on 16000 samples, validate on 4000 samples\n",
      "Epoch 1/3\n",
      "16000/16000 [==============================] - 6s 345us/step - loss: 0.4721 - acc: 0.7474 - val_loss: 0.3437 - val_acc: 0.8547\n",
      "Epoch 2/3\n",
      "16000/16000 [==============================] - 2s 138us/step - loss: 0.2825 - acc: 0.8861 - val_loss: 0.3450 - val_acc: 0.8547\n",
      "Epoch 3/3\n",
      "16000/16000 [==============================] - 2s 137us/step - loss: 0.2415 - acc: 0.9042 - val_loss: 0.3593 - val_acc: 0.8522\n"
     ]
    },
    {
     "data": {
      "text/plain": [
       "<keras.callbacks.History at 0x18e2f3be0f0>"
      ]
     },
     "execution_count": 12,
     "metadata": {},
     "output_type": "execute_result"
    }
   ],
   "source": [
    "model.fit(X_train_feat, y_train_feat, \n",
    "          batch_size = BATCH_SIZE, \n",
    "          epochs = TRAINING_EPOCHS,\n",
    "          validation_data = (X_val_feat, y_val_feat),\n",
    "          verbose = 1)"
   ]
  },
  {
   "cell_type": "code",
   "execution_count": 13,
   "metadata": {},
   "outputs": [
    {
     "name": "stdout",
     "output_type": "stream",
     "text": [
      "4000/4000 [==============================] - 0s 55us/step\n"
     ]
    },
    {
     "data": {
      "text/plain": [
       "[0.35925557315349577, 0.85225]"
      ]
     },
     "execution_count": 13,
     "metadata": {},
     "output_type": "execute_result"
    }
   ],
   "source": [
    "model.evaluate(X_val_feat, y_val_feat)"
   ]
  },
  {
   "cell_type": "code",
   "execution_count": null,
   "metadata": {},
   "outputs": [],
   "source": []
  },
  {
   "cell_type": "code",
   "execution_count": null,
   "metadata": {},
   "outputs": [],
   "source": []
  },
  {
   "cell_type": "code",
   "execution_count": null,
   "metadata": {},
   "outputs": [],
   "source": []
  },
  {
   "cell_type": "code",
   "execution_count": null,
   "metadata": {},
   "outputs": [],
   "source": []
  },
  {
   "cell_type": "code",
   "execution_count": null,
   "metadata": {},
   "outputs": [],
   "source": []
  },
  {
   "cell_type": "code",
   "execution_count": null,
   "metadata": {},
   "outputs": [],
   "source": []
  },
  {
   "cell_type": "code",
   "execution_count": null,
   "metadata": {},
   "outputs": [],
   "source": []
  },
  {
   "cell_type": "code",
   "execution_count": null,
   "metadata": {},
   "outputs": [],
   "source": []
  },
  {
   "cell_type": "code",
   "execution_count": null,
   "metadata": {},
   "outputs": [],
   "source": []
  }
 ],
 "metadata": {
  "kernelspec": {
   "display_name": "Python 3",
   "language": "python",
   "name": "python3"
  },
  "language_info": {
   "codemirror_mode": {
    "name": "ipython",
    "version": 3
   },
   "file_extension": ".py",
   "mimetype": "text/x-python",
   "name": "python",
   "nbconvert_exporter": "python",
   "pygments_lexer": "ipython3",
   "version": "3.6.10"
  }
 },
 "nbformat": 4,
 "nbformat_minor": 4
}
